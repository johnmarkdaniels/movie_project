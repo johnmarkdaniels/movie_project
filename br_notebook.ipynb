{
 "cells": [
  {
   "cell_type": "code",
   "execution_count": 13,
   "metadata": {
    "ExecuteTime": {
     "end_time": "2019-07-02T18:32:54.291962Z",
     "start_time": "2019-07-02T18:32:53.758192Z"
    }
   },
   "outputs": [],
   "source": [
    "import pandas as pd\n",
    "import numpy as np\n",
    "import pandas_profiling\n",
    "import json\n",
    "\n",
    "# spark imports\n",
    "from pyspark.sql import SQLContext\n",
    "from pyspark import SparkContext\n",
    "from pyspark.sql.functions import col\n",
    "from pyspark.ml.feature import RegexTokenizer, StopWordsRemover, CountVectorizer\n",
    "from pyspark.ml.classification import LogisticRegression\n",
    "from pyspark.ml.evaluation import RegressionEvaluator\n",
    "from pyspark.ml.recommendation import ALS, ALSModel\n"
   ]
  },
  {
   "cell_type": "code",
   "execution_count": null,
   "metadata": {
    "ExecuteTime": {
     "end_time": "2019-07-02T18:21:27.032288Z",
     "start_time": "2019-07-02T18:19:42.909Z"
    }
   },
   "outputs": [],
   "source": [
    "from pyspark.sql.types import (\n",
    "    ArrayType,\n",
    "    AtomicType,\n",
    "    BinaryType,\n",
    "    BooleanType,\n",
    "    ByteType,\n",
    "    CloudPickleSerializer,\n",
    "    DataType,\n",
    "    DataTypeSingleton,\n",
    "    DateConverter,\n",
    "    DateType,\n",
    "    DatetimeConverter,\n",
    "    DecimalType,\n",
    "    DoubleType,\n",
    "    FloatType,\n",
    "    FractionalType,\n",
    "    IntegerType,\n",
    "    IntegralType,\n",
    "    JavaClass,\n",
    "    LongType,\n",
    "    MapType,\n",
    "    NullType,\n",
    "    NumericType,\n",
    "    Row,\n",
    "    ShortType,\n",
    "    SparkContext,\n",
    "    StringType,\n",
    "    StructField,\n",
    "    StructType,\n",
    "    TimestampType,\n",
    "    UserDefinedType,\n",
    ")"
   ]
  },
  {
   "cell_type": "code",
   "execution_count": 4,
   "metadata": {
    "ExecuteTime": {
     "end_time": "2019-07-02T18:11:13.355138Z",
     "start_time": "2019-07-02T18:11:12.677380Z"
    }
   },
   "outputs": [
    {
     "name": "stderr",
     "output_type": "stream",
     "text": [
      "/Users/bar/dev/miniconda/envs/learn-env/lib/python3.7/site-packages/IPython/core/interactiveshell.py:3049: DtypeWarning: Columns (10) have mixed types. Specify dtype option on import or set low_memory=False.\n",
      "  interactivity=interactivity, compiler=compiler, result=result)\n"
     ]
    }
   ],
   "source": [
    "movies = pd.read_csv('data/movies_metadata.csv')"
   ]
  },
  {
   "cell_type": "code",
   "execution_count": 4,
   "metadata": {
    "ExecuteTime": {
     "end_time": "2019-07-02T17:22:53.683555Z",
     "start_time": "2019-07-02T17:22:53.642119Z"
    },
    "scrolled": true
   },
   "outputs": [
    {
     "data": {
      "text/html": [
       "<div>\n",
       "<style scoped>\n",
       "    .dataframe tbody tr th:only-of-type {\n",
       "        vertical-align: middle;\n",
       "    }\n",
       "\n",
       "    .dataframe tbody tr th {\n",
       "        vertical-align: top;\n",
       "    }\n",
       "\n",
       "    .dataframe thead th {\n",
       "        text-align: right;\n",
       "    }\n",
       "</style>\n",
       "<table border=\"1\" class=\"dataframe\">\n",
       "  <thead>\n",
       "    <tr style=\"text-align: right;\">\n",
       "      <th></th>\n",
       "      <th>adult</th>\n",
       "      <th>belongs_to_collection</th>\n",
       "      <th>budget</th>\n",
       "      <th>genres</th>\n",
       "      <th>homepage</th>\n",
       "      <th>id</th>\n",
       "      <th>imdb_id</th>\n",
       "      <th>original_language</th>\n",
       "      <th>original_title</th>\n",
       "      <th>overview</th>\n",
       "      <th>...</th>\n",
       "      <th>release_date</th>\n",
       "      <th>revenue</th>\n",
       "      <th>runtime</th>\n",
       "      <th>spoken_languages</th>\n",
       "      <th>status</th>\n",
       "      <th>tagline</th>\n",
       "      <th>title</th>\n",
       "      <th>video</th>\n",
       "      <th>vote_average</th>\n",
       "      <th>vote_count</th>\n",
       "    </tr>\n",
       "  </thead>\n",
       "  <tbody>\n",
       "    <tr>\n",
       "      <th>0</th>\n",
       "      <td>False</td>\n",
       "      <td>{'id': 10194, 'name': 'Toy Story Collection', ...</td>\n",
       "      <td>30000000</td>\n",
       "      <td>[{'id': 16, 'name': 'Animation'}, {'id': 35, '...</td>\n",
       "      <td>http://toystory.disney.com/toy-story</td>\n",
       "      <td>862</td>\n",
       "      <td>tt0114709</td>\n",
       "      <td>en</td>\n",
       "      <td>Toy Story</td>\n",
       "      <td>Led by Woody, Andy's toys live happily in his ...</td>\n",
       "      <td>...</td>\n",
       "      <td>1995-10-30</td>\n",
       "      <td>373554033.0</td>\n",
       "      <td>81.0</td>\n",
       "      <td>[{'iso_639_1': 'en', 'name': 'English'}]</td>\n",
       "      <td>Released</td>\n",
       "      <td>NaN</td>\n",
       "      <td>Toy Story</td>\n",
       "      <td>False</td>\n",
       "      <td>7.7</td>\n",
       "      <td>5415.0</td>\n",
       "    </tr>\n",
       "    <tr>\n",
       "      <th>1</th>\n",
       "      <td>False</td>\n",
       "      <td>NaN</td>\n",
       "      <td>65000000</td>\n",
       "      <td>[{'id': 12, 'name': 'Adventure'}, {'id': 14, '...</td>\n",
       "      <td>NaN</td>\n",
       "      <td>8844</td>\n",
       "      <td>tt0113497</td>\n",
       "      <td>en</td>\n",
       "      <td>Jumanji</td>\n",
       "      <td>When siblings Judy and Peter discover an encha...</td>\n",
       "      <td>...</td>\n",
       "      <td>1995-12-15</td>\n",
       "      <td>262797249.0</td>\n",
       "      <td>104.0</td>\n",
       "      <td>[{'iso_639_1': 'en', 'name': 'English'}, {'iso...</td>\n",
       "      <td>Released</td>\n",
       "      <td>Roll the dice and unleash the excitement!</td>\n",
       "      <td>Jumanji</td>\n",
       "      <td>False</td>\n",
       "      <td>6.9</td>\n",
       "      <td>2413.0</td>\n",
       "    </tr>\n",
       "    <tr>\n",
       "      <th>2</th>\n",
       "      <td>False</td>\n",
       "      <td>{'id': 119050, 'name': 'Grumpy Old Men Collect...</td>\n",
       "      <td>0</td>\n",
       "      <td>[{'id': 10749, 'name': 'Romance'}, {'id': 35, ...</td>\n",
       "      <td>NaN</td>\n",
       "      <td>15602</td>\n",
       "      <td>tt0113228</td>\n",
       "      <td>en</td>\n",
       "      <td>Grumpier Old Men</td>\n",
       "      <td>A family wedding reignites the ancient feud be...</td>\n",
       "      <td>...</td>\n",
       "      <td>1995-12-22</td>\n",
       "      <td>0.0</td>\n",
       "      <td>101.0</td>\n",
       "      <td>[{'iso_639_1': 'en', 'name': 'English'}]</td>\n",
       "      <td>Released</td>\n",
       "      <td>Still Yelling. Still Fighting. Still Ready for...</td>\n",
       "      <td>Grumpier Old Men</td>\n",
       "      <td>False</td>\n",
       "      <td>6.5</td>\n",
       "      <td>92.0</td>\n",
       "    </tr>\n",
       "    <tr>\n",
       "      <th>3</th>\n",
       "      <td>False</td>\n",
       "      <td>NaN</td>\n",
       "      <td>16000000</td>\n",
       "      <td>[{'id': 35, 'name': 'Comedy'}, {'id': 18, 'nam...</td>\n",
       "      <td>NaN</td>\n",
       "      <td>31357</td>\n",
       "      <td>tt0114885</td>\n",
       "      <td>en</td>\n",
       "      <td>Waiting to Exhale</td>\n",
       "      <td>Cheated on, mistreated and stepped on, the wom...</td>\n",
       "      <td>...</td>\n",
       "      <td>1995-12-22</td>\n",
       "      <td>81452156.0</td>\n",
       "      <td>127.0</td>\n",
       "      <td>[{'iso_639_1': 'en', 'name': 'English'}]</td>\n",
       "      <td>Released</td>\n",
       "      <td>Friends are the people who let you be yourself...</td>\n",
       "      <td>Waiting to Exhale</td>\n",
       "      <td>False</td>\n",
       "      <td>6.1</td>\n",
       "      <td>34.0</td>\n",
       "    </tr>\n",
       "    <tr>\n",
       "      <th>4</th>\n",
       "      <td>False</td>\n",
       "      <td>{'id': 96871, 'name': 'Father of the Bride Col...</td>\n",
       "      <td>0</td>\n",
       "      <td>[{'id': 35, 'name': 'Comedy'}]</td>\n",
       "      <td>NaN</td>\n",
       "      <td>11862</td>\n",
       "      <td>tt0113041</td>\n",
       "      <td>en</td>\n",
       "      <td>Father of the Bride Part II</td>\n",
       "      <td>Just when George Banks has recovered from his ...</td>\n",
       "      <td>...</td>\n",
       "      <td>1995-02-10</td>\n",
       "      <td>76578911.0</td>\n",
       "      <td>106.0</td>\n",
       "      <td>[{'iso_639_1': 'en', 'name': 'English'}]</td>\n",
       "      <td>Released</td>\n",
       "      <td>Just When His World Is Back To Normal... He's ...</td>\n",
       "      <td>Father of the Bride Part II</td>\n",
       "      <td>False</td>\n",
       "      <td>5.7</td>\n",
       "      <td>173.0</td>\n",
       "    </tr>\n",
       "  </tbody>\n",
       "</table>\n",
       "<p>5 rows × 24 columns</p>\n",
       "</div>"
      ],
      "text/plain": [
       "   adult                              belongs_to_collection    budget  \\\n",
       "0  False  {'id': 10194, 'name': 'Toy Story Collection', ...  30000000   \n",
       "1  False                                                NaN  65000000   \n",
       "2  False  {'id': 119050, 'name': 'Grumpy Old Men Collect...         0   \n",
       "3  False                                                NaN  16000000   \n",
       "4  False  {'id': 96871, 'name': 'Father of the Bride Col...         0   \n",
       "\n",
       "                                              genres  \\\n",
       "0  [{'id': 16, 'name': 'Animation'}, {'id': 35, '...   \n",
       "1  [{'id': 12, 'name': 'Adventure'}, {'id': 14, '...   \n",
       "2  [{'id': 10749, 'name': 'Romance'}, {'id': 35, ...   \n",
       "3  [{'id': 35, 'name': 'Comedy'}, {'id': 18, 'nam...   \n",
       "4                     [{'id': 35, 'name': 'Comedy'}]   \n",
       "\n",
       "                               homepage     id    imdb_id original_language  \\\n",
       "0  http://toystory.disney.com/toy-story    862  tt0114709                en   \n",
       "1                                   NaN   8844  tt0113497                en   \n",
       "2                                   NaN  15602  tt0113228                en   \n",
       "3                                   NaN  31357  tt0114885                en   \n",
       "4                                   NaN  11862  tt0113041                en   \n",
       "\n",
       "                original_title  \\\n",
       "0                    Toy Story   \n",
       "1                      Jumanji   \n",
       "2             Grumpier Old Men   \n",
       "3            Waiting to Exhale   \n",
       "4  Father of the Bride Part II   \n",
       "\n",
       "                                            overview  ... release_date  \\\n",
       "0  Led by Woody, Andy's toys live happily in his ...  ...   1995-10-30   \n",
       "1  When siblings Judy and Peter discover an encha...  ...   1995-12-15   \n",
       "2  A family wedding reignites the ancient feud be...  ...   1995-12-22   \n",
       "3  Cheated on, mistreated and stepped on, the wom...  ...   1995-12-22   \n",
       "4  Just when George Banks has recovered from his ...  ...   1995-02-10   \n",
       "\n",
       "       revenue runtime                                   spoken_languages  \\\n",
       "0  373554033.0    81.0           [{'iso_639_1': 'en', 'name': 'English'}]   \n",
       "1  262797249.0   104.0  [{'iso_639_1': 'en', 'name': 'English'}, {'iso...   \n",
       "2          0.0   101.0           [{'iso_639_1': 'en', 'name': 'English'}]   \n",
       "3   81452156.0   127.0           [{'iso_639_1': 'en', 'name': 'English'}]   \n",
       "4   76578911.0   106.0           [{'iso_639_1': 'en', 'name': 'English'}]   \n",
       "\n",
       "     status                                            tagline  \\\n",
       "0  Released                                                NaN   \n",
       "1  Released          Roll the dice and unleash the excitement!   \n",
       "2  Released  Still Yelling. Still Fighting. Still Ready for...   \n",
       "3  Released  Friends are the people who let you be yourself...   \n",
       "4  Released  Just When His World Is Back To Normal... He's ...   \n",
       "\n",
       "                         title  video vote_average vote_count  \n",
       "0                    Toy Story  False          7.7     5415.0  \n",
       "1                      Jumanji  False          6.9     2413.0  \n",
       "2             Grumpier Old Men  False          6.5       92.0  \n",
       "3            Waiting to Exhale  False          6.1       34.0  \n",
       "4  Father of the Bride Part II  False          5.7      173.0  \n",
       "\n",
       "[5 rows x 24 columns]"
      ]
     },
     "execution_count": 4,
     "metadata": {},
     "output_type": "execute_result"
    }
   ],
   "source": [
    "movies.head()"
   ]
  },
  {
   "cell_type": "code",
   "execution_count": 53,
   "metadata": {
    "ExecuteTime": {
     "end_time": "2019-07-02T17:47:45.870343Z",
     "start_time": "2019-07-02T17:47:45.835247Z"
    }
   },
   "outputs": [
    {
     "data": {
      "text/plain": [
       "{'id': 415931, 'name': 'The Bowery Boys', 'poster_path': '/q6sA4bzMT9cK7EEmXYwt7PNrL5h.jpg', 'backdrop_path': '/foe3kuiJmg5AklhtD3skWbaTMf2.jpg'}                                  29\n",
       "{'id': 421566, 'name': 'Totò Collection', 'poster_path': '/4ayJsjC3djGwU9eCWUokdBWvdLC.jpg', 'backdrop_path': '/jaUuprubvAxXLAY5hUfrNjxccUh.jpg'}                                  27\n",
       "{'id': 96887, 'name': 'Zatôichi: The Blind Swordsman', 'poster_path': '/8Q31DAtmFJjhFTwQGXghBUCgWK2.jpg', 'backdrop_path': '/bY8gLImMR5Pr9PaG3ZpobfaAQ8N.jpg'}                     26\n",
       "{'id': 645, 'name': 'James Bond Collection', 'poster_path': '/HORpg5CSkmeQlAolx3bKMrKgfi.jpg', 'backdrop_path': '/6VcVl48kNKvdXOZfJPdarlUGOsk.jpg'}                                26\n",
       "{'id': 37261, 'name': 'The Carry On Collection', 'poster_path': '/2P0HNrYgKDvirV8RCdT1rBSJdbJ.jpg', 'backdrop_path': '/38tF1LJN7ULeZAuAfP7beaPMfcl.jpg'}                           25\n",
       "{'id': 34055, 'name': 'Pokémon Collection', 'poster_path': '/j5te0YNZAMXDBnsqTUDKIBEt8iu.jpg', 'backdrop_path': '/iGoYKA0TFfgSoZpG2u5viTJMGfK.jpg'}                                22\n",
       "{'id': 413661, 'name': 'Charlie Chan (Sidney Toler) Collection', 'poster_path': '/y0xWQpLRattvypZXF5ZiuipsD2U.jpg', 'backdrop_path': None}                                         21\n",
       "{'id': 374509, 'name': 'Godzilla (Showa) Collection', 'poster_path': '/scvwS6k8gIW8w24UcmePQqVL10l.jpg', 'backdrop_path': '/dx9YSup5zEOjxYwG4UkYBVAZIXo.jpg'}                      16\n",
       "{'id': 425164, 'name': 'Dragon Ball Z (Movie) Collection', 'poster_path': '/2VMZ1zRFPnUQtQp5K4WRXvDYBjh.jpg', 'backdrop_path': '/7PcbijxTfwi9vjWEfXdS0ReAw8q.jpg'}                 15\n",
       "{'id': 148324, 'name': 'Uuno Turhapuro', 'poster_path': None, 'backdrop_path': None}                                                                                               15\n",
       "{'id': 38451, 'name': 'Charlie Chan (Warner Oland) Collection', 'poster_path': '/eSDdu6pbocmayu1SXQFU9VYYoQ6.jpg', 'backdrop_path': '/9bE62qBanBFtoiIc9cXjk1xW3w.jpg'}             15\n",
       "{'id': 224026, 'name': 'Monster High Collection', 'poster_path': '/z230ua2CDBkPAQCOUmENphU9Hm9.jpg', 'backdrop_path': '/kDsPcm1Qx5zjPNAZ80dBSHdTowH.jpg'}                          14\n",
       "{'id': 19163, 'name': 'The Land Before Time Collection', 'poster_path': '/n1bjdBVThBezxR6nEf2dy43sTtV.jpg', 'backdrop_path': '/alkvR9vTtuZEmd5ygsayOfxYOMa.jpg'}                   14\n",
       "{'id': 479319, 'name': 'George Carlin Comedy Collection', 'poster_path': None, 'backdrop_path': None}                                                                              13\n",
       "{'id': 69788, 'name': 'Sharpe Collection', 'poster_path': '/hmdcvEQA2uCGwB8MflWj0zTWov.jpg', 'backdrop_path': None}                                                                13\n",
       "{'id': 478628, 'name': 'Sherlock Holmes (1939 series)', 'poster_path': '/vjERITzfag3OJM6QXjZO6H7Ai3s.jpg', 'backdrop_path': '/uuk6Gja81opjfmA7MN3WsOdtMYf.jpg'}                    12\n",
       "{'id': 24717, 'name': 'Johan Falk GSI Collection', 'poster_path': '/7ePcKBHb0GAYugtOlU9QhRVLzNb.jpg', 'backdrop_path': '/1k71fktd6XL4b5sk0YH9yA8TwMX.jpg'}                         12\n",
       "{'id': 9735, 'name': 'Friday the 13th Collection', 'poster_path': '/uobgqpLQff9WvxGKE2OSvXv1RHm.jpg', 'backdrop_path': '/c7pMKwv5NzIN6N3KM4L8fYMTtPw.jpg'}                         12\n",
       "{'id': 397842, 'name': 'The Amityville Horror Collection', 'poster_path': '/8uCu7d43IHPwFfNS2qCyVuRP1cP.jpg', 'backdrop_path': '/kPfuozrsE7pmFFolkR0xFicZDJT.jpg'}                 12\n",
       "{'id': 25542, 'name': 'An American Girl Collection', 'poster_path': '/5JpcRXXuFSgYUgtSKvcdQE9LaMS.jpg', 'backdrop_path': '/1jt2T8oHR1NlzXr7TmSp0Ly9m9D.jpg'}                       10\n",
       "{'id': 97919, 'name': 'The Love Comes Softly Collection', 'poster_path': '/AoO3BPRgLa044ppf0oNWqF7t4SI.jpg', 'backdrop_path': None}                                                10\n",
       "{'id': 8917, 'name': 'Hellraiser Collection', 'poster_path': '/lIK0UgJsA18Z5I1PwpucXzgyF3A.jpg', 'backdrop_path': '/uaEUgCqB6lGkvM4Wy5blNwLJdfa.jpg'}                              10\n",
       "{'id': 458017, 'name': 'Tom and Jerry Collection', 'poster_path': '/yBLkGyOVYN9yaQFVlRNnQapOMFQ.jpg', 'backdrop_path': '/hJuGS7kqaNxdHHDMEuof2GamCcK.jpg'}                         10\n",
       "{'id': 41658, 'name': 'Fantozzi Collection', 'poster_path': '/m5pURXwh5fVdOG1vXvbKdJeW2hn.jpg', 'backdrop_path': '/h2L6fnTYieCrNscxbtjGG31lBRm.jpg'}                               10\n",
       "{'id': 107949, 'name': 'Puppet Master Collection', 'poster_path': '/wuLaEcy10wqgiVi4nCjdPXvcCyw.jpg', 'backdrop_path': '/crDZjaOpoUCIOoiQ9nLIAt8ZBul.jpg'}                         10\n",
       "{'id': 188138, 'name': 'Il Maresciallo Giraldi Collection', 'poster_path': '/epNJVOU4c5i4P6Idifr7NwEQ3xM.jpg', 'backdrop_path': '/4UWNAVofz3dxMKdYyz2toobAooM.jpg'}                10\n",
       "{'id': 53043, 'name': 'The Magick Lantern Cycle', 'poster_path': '/zvxHgzOCyjI7uMoVkQF07zxOz7J.jpg', 'backdrop_path': None}                                                         9\n",
       "{'id': 115225, 'name': 'Children of the Corn Collection', 'poster_path': '/v6auJblMcNxUmZx23mQXMHmzyY3.jpg', 'backdrop_path': '/g4aK8Up5zSegesJdMYbxDcndn20.jpg'}                   9\n",
       "{'id': 94039, 'name': 'Asterix and Obelix (Animation) Collection', 'poster_path': '/mJ85mdtrQl2LWTNAHHcSJC55dcs.jpg', 'backdrop_path': '/f0mc4ObY75CrFzOYGNGiHXjgKGz.jpg'}          9\n",
       "{'id': 23240, 'name': 'The Garden of Sinners', 'poster_path': '/d7aiLYwivuSimHuDru4wfrmb9O8.jpg', 'backdrop_path': '/sluEcYhQPGweluu4uS0yDpKik10.jpg'}                              9\n",
       "                                                                                                                                                                                   ..\n",
       "{'id': 473185, 'name': 'Dead in Tombstone Collection', 'poster_path': '/3TdTcCWDBNaekYDxkQyb0heDLaR.jpg', 'backdrop_path': '/yUGYwtE4KQ36MLOT2PD497op5T4.jpg'}                      1\n",
       "{'id': 313234, 'name': 'Warriors of the Rainbow: The Seediq Bale Saga', 'poster_path': '/yMEfqUojPRBwa3EgQrgmDc1emwk.jpg', 'backdrop_path': '/uoEJjaPHXG33t5z7ffHdNXwE52s.jpg'}     1\n",
       "{'id': 477050, 'name': \"Takashi Miike's Young Thugs series\", 'poster_path': None, 'backdrop_path': None}                                                                            1\n",
       "{'id': 473971, 'name': \"Daddy's Home Collection\", 'poster_path': None, 'backdrop_path': '/16w6DLmX0OqGT5qBdMpfpWh4VkU.jpg'}                                                         1\n",
       "{'id': 151149, 'name': 'My Sisters Kids Collection', 'poster_path': '/6b9u0jK0bBhbqiuQvzw1hToBS7Q.jpg', 'backdrop_path': None}                                                      1\n",
       "{'id': 421605, 'name': 'Heidi (Praesens-Film) Filmreihe', 'poster_path': None, 'backdrop_path': None}                                                                               1\n",
       "{'id': 8412, 'name': 'Anatomy Collection', 'poster_path': '/5cMGSefT2oJvzRNwX4IvZQOGO20.jpg', 'backdrop_path': None}                                                                1\n",
       "{'id': 445049, 'name': 'Il medico della mutua Collection', 'poster_path': None, 'backdrop_path': None}                                                                              1\n",
       "{'id': 385650, 'name': 'The Spiritual Boxer Collection', 'poster_path': None, 'backdrop_path': None}                                                                                1\n",
       "{'id': 413937, 'name': 'Father Flanagan Collection', 'poster_path': None, 'backdrop_path': None}                                                                                    1\n",
       "{'id': 422834, 'name': 'Ant-Man Collection', 'poster_path': '/lEdpEJWJdtVLgmpPkXSTd2xczmY.jpg', 'backdrop_path': '/2KjtWUBiksmN8LsUouaZnxocu5N.jpg'}                                1\n",
       "{'id': 245321, 'name': 'K3 Collectie', 'poster_path': '/4cprWMgcMuLuyDQd9KJ59IqNZmK.jpg', 'backdrop_path': '/bayyg4xGqAv2GqPSLtahbNXovzO.jpg'}                                      1\n",
       "{'id': 119237, 'name': 'Legends of the Poisonous Seductress', 'poster_path': None, 'backdrop_path': None}                                                                           1\n",
       "{'id': 122778, 'name': 'Wodehouse P.G. Collection', 'poster_path': '/q0q7SlFCe0RUpbbhjEf6YatdNWs.jpg', 'backdrop_path': '/vpi9WAWcStFqiTZ5qJu0LagePjm.jpg'}                         1\n",
       "{'id': 104202, 'name': 'Mr. Bones Collection', 'poster_path': '/xeNZfbjPELUXdQEiP7RpfafuzvI.jpg', 'backdrop_path': '/zEew77dhNFiXGnBXfO8U84M4eVy.jpg'}                              1\n",
       "{'id': 246207, 'name': 'Gunbuster Collection', 'poster_path': '/8JSBwgZzGDVsvuldYsz2KADQVeK.jpg', 'backdrop_path': None}                                                            1\n",
       "{'id': 147220, 'name': 'Valami Amerika gyűjtemény', 'poster_path': '/k5xCTxTo2juGj5ptZ8s0cL7fEnt.jpg', 'backdrop_path': None}                                                       1\n",
       "{'id': 374436, 'name': 'Waldemar Daninsky Collection', 'poster_path': None, 'backdrop_path': None}                                                                                  1\n",
       "{'id': 372479, 'name': 'Les Boys', 'poster_path': '/n2Nv7Ee8UYdT8TuVQrlvMZDjzHd.jpg', 'backdrop_path': '/lh0KN07Qds44GIODICc9TyAogh5.jpg'}                                          1\n",
       "{'id': 93788, 'name': 'Prep & Landing Collection', 'poster_path': '/zRTaRvG5JZW2ysuGxYRH37WSLHK.jpg', 'backdrop_path': '/kmsH4aq0lwgryQBoCfXZzyp6z4O.jpg'}                          1\n",
       "{'id': 412736, 'name': 'Rare Exports Collection', 'poster_path': '/6CjWXoYdgqPtC41cDzW9YoWJyB1.jpg', 'backdrop_path': '/oUOWdFm3Jf0SNv7spQYPnDEnYsA.jpg'}                           1\n",
       "{'id': 213697, 'name': 'Sex is Zero Collection', 'poster_path': '/miHDPsREH4A76EFXCGOt54GEzk0.jpg', 'backdrop_path': '/6jhA3DVd2n4Oj3jfWrJ9yUX9ZJd.jpg'}                            1\n",
       "{'id': 400412, 'name': 'Northpole', 'poster_path': '/7BPol85ZT4sTArG5o1LAZUerxKN.jpg', 'backdrop_path': '/sh20SSa08JTeorJbSpWXR5Bev95.jpg'}                                         1\n",
       "{'id': 159340, 'name': 'Bang Rajan Collection', 'poster_path': '/fqG9lxqOBEhnmsWL7IXriOPxUmW.jpg', 'backdrop_path': '/6YjVi1fSS4uQQ4paHBfwFCNtBRB.jpg'}                             1\n",
       "{'id': 446015, 'name': 'Golgo 13 Collection', 'poster_path': '/cU9hNpM3gtHo4Gy4OYpUncMJbSD.jpg', 'backdrop_path': '/7J3TYZOrKyFlw8GB4wuTh3svUav.jpg'}                               1\n",
       "{'id': 224976, 'name': 'Road House Collection', 'poster_path': None, 'backdrop_path': None}                                                                                         1\n",
       "{'id': 468039, 'name': 'The Sally Lochhart Mysteries Collection', 'poster_path': None, 'backdrop_path': None}                                                                       1\n",
       "{'id': 256374, 'name': 'Zero Woman Collection', 'poster_path': '/5cMurF48jK1kiuVqTO9QA8XKyVI.jpg', 'backdrop_path': None}                                                           1\n",
       "{'id': 464374, 'name': 'Ur kärlekens språk', 'poster_path': None, 'backdrop_path': None}                                                                                            1\n",
       "{'id': 472917, 'name': 'In the Vineyard Collection', 'poster_path': None, 'backdrop_path': None}                                                                                    1\n",
       "Name: belongs_to_collection, Length: 1698, dtype: int64"
      ]
     },
     "execution_count": 53,
     "metadata": {},
     "output_type": "execute_result"
    }
   ],
   "source": [
    "movies['belongs_to_collection'].value_counts()"
   ]
  },
  {
   "cell_type": "code",
   "execution_count": 5,
   "metadata": {
    "ExecuteTime": {
     "end_time": "2019-07-02T18:11:22.263145Z",
     "start_time": "2019-07-02T18:11:22.203339Z"
    }
   },
   "outputs": [
    {
     "name": "stderr",
     "output_type": "stream",
     "text": [
      "/Users/bar/dev/miniconda/envs/learn-env/lib/python3.7/site-packages/ipykernel_launcher.py:1: ParserWarning: Falling back to the 'python' engine because the 'c' engine does not support regex separators (separators > 1 char and different from '\\s+' are interpreted as regex); you can avoid this warning by specifying engine='python'.\n",
      "  \"\"\"Entry point for launching an IPython kernel.\n"
     ]
    }
   ],
   "source": [
    "movie_dat = pd.read_csv('data/movies.dat', sep='::', header=None, index_col=0)\n"
   ]
  },
  {
   "cell_type": "code",
   "execution_count": 6,
   "metadata": {
    "ExecuteTime": {
     "end_time": "2019-07-02T18:12:02.713108Z",
     "start_time": "2019-07-02T18:12:02.690678Z"
    }
   },
   "outputs": [
    {
     "data": {
      "text/html": [
       "<div>\n",
       "<style scoped>\n",
       "    .dataframe tbody tr th:only-of-type {\n",
       "        vertical-align: middle;\n",
       "    }\n",
       "\n",
       "    .dataframe tbody tr th {\n",
       "        vertical-align: top;\n",
       "    }\n",
       "\n",
       "    .dataframe thead th {\n",
       "        text-align: right;\n",
       "    }\n",
       "</style>\n",
       "<table border=\"1\" class=\"dataframe\">\n",
       "  <thead>\n",
       "    <tr style=\"text-align: right;\">\n",
       "      <th></th>\n",
       "      <th>1</th>\n",
       "      <th>2</th>\n",
       "    </tr>\n",
       "    <tr>\n",
       "      <th>0</th>\n",
       "      <th></th>\n",
       "      <th></th>\n",
       "    </tr>\n",
       "  </thead>\n",
       "  <tbody>\n",
       "    <tr>\n",
       "      <th>3948</th>\n",
       "      <td>Meet the Parents (2000)</td>\n",
       "      <td>Comedy</td>\n",
       "    </tr>\n",
       "    <tr>\n",
       "      <th>3949</th>\n",
       "      <td>Requiem for a Dream (2000)</td>\n",
       "      <td>Drama</td>\n",
       "    </tr>\n",
       "    <tr>\n",
       "      <th>3950</th>\n",
       "      <td>Tigerland (2000)</td>\n",
       "      <td>Drama</td>\n",
       "    </tr>\n",
       "    <tr>\n",
       "      <th>3951</th>\n",
       "      <td>Two Family House (2000)</td>\n",
       "      <td>Drama</td>\n",
       "    </tr>\n",
       "    <tr>\n",
       "      <th>3952</th>\n",
       "      <td>Contender, The (2000)</td>\n",
       "      <td>Drama|Thriller</td>\n",
       "    </tr>\n",
       "  </tbody>\n",
       "</table>\n",
       "</div>"
      ],
      "text/plain": [
       "                               1               2\n",
       "0                                               \n",
       "3948     Meet the Parents (2000)          Comedy\n",
       "3949  Requiem for a Dream (2000)           Drama\n",
       "3950            Tigerland (2000)           Drama\n",
       "3951     Two Family House (2000)           Drama\n",
       "3952       Contender, The (2000)  Drama|Thriller"
      ]
     },
     "execution_count": 6,
     "metadata": {},
     "output_type": "execute_result"
    }
   ],
   "source": [
    "movie_dat.tail()"
   ]
  },
  {
   "cell_type": "code",
   "execution_count": 27,
   "metadata": {
    "ExecuteTime": {
     "end_time": "2019-07-02T18:44:19.543206Z",
     "start_time": "2019-07-02T18:44:17.189407Z"
    },
    "scrolled": true
   },
   "outputs": [
    {
     "name": "stdout",
     "output_type": "stream",
     "text": [
      "+--------+------+------------+-------+\n",
      "|movie_id|rating|   timestamp|user_id|\n",
      "+--------+------+------------+-------+\n",
      "|     858|     4|9.56678732E8|   6040|\n",
      "|    2384|     4|9.56678754E8|   6040|\n",
      "|     593|     5|9.56678754E8|   6040|\n",
      "|    1961|     4|9.56678777E8|   6040|\n",
      "|    1419|     3|9.56678856E8|   6040|\n",
      "|     213|     5|9.56678856E8|   6040|\n",
      "|    3111|     5|9.56678856E8|   6040|\n",
      "|     573|     4|9.56678856E8|   6040|\n",
      "|    3505|     4|9.56678856E8|   6040|\n",
      "|    1734|     2|9.56678881E8|   6040|\n",
      "|    2503|     5|9.56678991E8|   6040|\n",
      "|     919|     5|9.56678991E8|   6040|\n",
      "|     912|     5|9.56678991E8|   6040|\n",
      "|     527|     5|9.56679019E8|   6040|\n",
      "|    1252|     5|9.56679057E8|   6040|\n",
      "|     649|     5|9.56679057E8|   6040|\n",
      "|     318|     4|9.56679057E8|   6040|\n",
      "|    3289|     5|9.56679105E8|   6040|\n",
      "|     608|     4|9.56679275E8|   6040|\n",
      "|    2396|     3|9.56679275E8|   6040|\n",
      "+--------+------+------------+-------+\n",
      "only showing top 20 rows\n",
      "\n",
      "+--------+------+------------+-------+\n",
      "|movie_id|rating|   timestamp|user_id|\n",
      "+--------+------+------------+-------+\n",
      "|    2019|   NaN|9.56678777E8|   6040|\n",
      "|     759|   NaN|9.56679248E8|   6040|\n",
      "|    2858|   NaN|9.56679275E8|   6040|\n",
      "|     246|   NaN|9.56679413E8|   6040|\n",
      "|    1617|   NaN|9.56679473E8|   6040|\n",
      "|    2324|   NaN|9.56679629E8|   6040|\n",
      "|    1089|   NaN|9.56679796E8|   6040|\n",
      "|    2804|   NaN|9.56680123E8|   6039|\n",
      "|     933|   NaN| 9.5668027E8|   6039|\n",
      "|    1304|   NaN|9.56680308E8|   6039|\n",
      "|     945|   NaN|9.56680453E8|   6039|\n",
      "|    1097|   NaN|9.56680611E8|   6039|\n",
      "|     919|   NaN|9.56680672E8|   6039|\n",
      "|    1282|   NaN|9.56680707E8|   6039|\n",
      "|    1022|   NaN|9.56680707E8|   6039|\n",
      "|     588|   NaN| 9.5668075E8|   6039|\n",
      "|    1951|   NaN| 9.5668075E8|   6039|\n",
      "|    1380|   NaN|9.56680789E8|   6039|\n",
      "|     199|   NaN|9.56680875E8|   6039|\n",
      "|     926|   NaN|9.56681124E8|   6039|\n",
      "+--------+------+------------+-------+\n",
      "only showing top 20 rows\n",
      "\n"
     ]
    }
   ],
   "source": [
    "import pyspark\n",
    "\n",
    "spark = (pyspark.sql.SparkSession.builder \n",
    "  .master(\"local[*]\")\n",
    "  .getOrCreate())\n",
    "\n",
    "ratings = spark.read.json(\"./data/ratings.json\")\n",
    "requests = spark.read.json(\"./data/requests.json\")\n",
    "\n",
    "ratings.show()\n",
    "requests.show()"
   ]
  },
  {
   "cell_type": "code",
   "execution_count": 24,
   "metadata": {
    "ExecuteTime": {
     "end_time": "2019-07-02T18:43:02.761576Z",
     "start_time": "2019-07-02T18:42:59.887913Z"
    }
   },
   "outputs": [],
   "source": [
    "#f = open('data/requests.json')\n",
    "#data = json.load(f)\n",
    "#print(type(data))\n",
    "\n",
    "ratings_list = []\n",
    "with open('data/ratings.json') as f:\n",
    "    for line in f:\n",
    "        ratings_list.append(json.loads(line))"
   ]
  },
  {
   "cell_type": "code",
   "execution_count": 25,
   "metadata": {
    "ExecuteTime": {
     "end_time": "2019-07-02T18:43:04.692371Z",
     "start_time": "2019-07-02T18:43:04.681086Z"
    }
   },
   "outputs": [
    {
     "data": {
      "text/plain": [
       "{'user_id': 6040, 'movie_id': 858, 'rating': 4, 'timestamp': 956678732.0}"
      ]
     },
     "execution_count": 25,
     "metadata": {},
     "output_type": "execute_result"
    }
   ],
   "source": [
    "ratings_list[0]"
   ]
  },
  {
   "cell_type": "markdown",
   "metadata": {},
   "source": [
    "# Spark Pipeline"
   ]
  },
  {
   "cell_type": "code",
   "execution_count": null,
   "metadata": {},
   "outputs": [],
   "source": []
  }
 ],
 "metadata": {
  "kernelspec": {
   "display_name": "Python 3",
   "language": "python",
   "name": "python3"
  },
  "language_info": {
   "codemirror_mode": {
    "name": "ipython",
    "version": 3
   },
   "file_extension": ".py",
   "mimetype": "text/x-python",
   "name": "python",
   "nbconvert_exporter": "python",
   "pygments_lexer": "ipython3",
   "version": "3.7.3"
  },
  "toc": {
   "base_numbering": 1,
   "nav_menu": {},
   "number_sections": true,
   "sideBar": true,
   "skip_h1_title": false,
   "title_cell": "Table of Contents",
   "title_sidebar": "Contents",
   "toc_cell": false,
   "toc_position": {},
   "toc_section_display": true,
   "toc_window_display": false
  }
 },
 "nbformat": 4,
 "nbformat_minor": 2
}
